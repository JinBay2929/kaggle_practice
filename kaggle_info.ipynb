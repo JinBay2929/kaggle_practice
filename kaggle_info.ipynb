{
 "cells": [
  {
   "cell_type": "code",
   "execution_count": 6,
   "id": "8a468fd9",
   "metadata": {},
   "outputs": [
    {
     "name": "stdout",
     "output_type": "stream",
     "text": [
      "ref                                             deadline             category            reward  teamCount  userHasEntered  \n",
      "----------------------------------------------  -------------------  ---------------  ---------  ---------  --------------  \n",
      "contradictory-my-dear-watson                    2030-07-01 23:59:00  Getting Started     Prizes         54           False  \n",
      "gan-getting-started                             2030-07-01 23:59:00  Getting Started     Prizes         79           False  \n",
      "store-sales-time-series-forecasting             2030-06-30 23:59:00  Getting Started  Knowledge        581           False  \n",
      "tpu-getting-started                             2030-06-03 23:59:00  Getting Started  Knowledge        109           False  \n",
      "digit-recognizer                                2030-01-01 00:00:00  Getting Started  Knowledge       1357           False  \n",
      "titanic                                         2030-01-01 00:00:00  Getting Started  Knowledge      14765            True  \n",
      "house-prices-advanced-regression-techniques     2030-01-01 00:00:00  Getting Started  Knowledge       4064           False  \n",
      "connectx                                        2030-01-01 00:00:00  Getting Started  Knowledge        205           False  \n",
      "nlp-getting-started                             2030-01-01 00:00:00  Getting Started  Knowledge        875           False  \n",
      "spaceship-titanic                               2030-01-01 00:00:00  Getting Started  Knowledge       2129           False  \n",
      "otto-recommender-system                         2023-01-31 23:59:00  Featured           $30,000        190           False  \n",
      "nfl-big-data-bowl-2023                          2023-01-09 23:59:00  Analytics         $100,000          0           False  \n",
      "g2net-detecting-continuous-gravitational-waves  2023-01-03 23:59:00  Research           $25,000        447           False  \n",
      "novozymes-enzyme-stability-prediction           2023-01-03 23:59:00  Featured           $25,000       1126           False  \n",
      "competitive-data-science-predict-future-sales   2022-12-31 23:59:00  Playground           Kudos      15677           False  \n",
      "dfl-bundesliga-data-shootout                    2022-12-20 23:59:00  Featured           $25,000        530           False  \n",
      "scrabble-player-rating                          2022-12-15 23:59:00  Playground           Kudos         36           False  \n",
      "lux-ai-2022-beta                                2022-12-06 23:59:00  Playground            Swag         17           False  \n",
      "tabular-playground-series-nov-2022              2022-11-30 23:59:00  Playground            Swag        211           False  \n",
      "feedback-prize-english-language-learning        2022-11-29 23:59:00  Featured           $55,000       2115           False  \n"
     ]
    }
   ],
   "source": [
    "!kaggle competitions list"
   ]
  }
 ],
 "metadata": {
  "kernelspec": {
   "display_name": "Python 3 (ipykernel)",
   "language": "python",
   "name": "python3"
  },
  "language_info": {
   "codemirror_mode": {
    "name": "ipython",
    "version": 3
   },
   "file_extension": ".py",
   "mimetype": "text/x-python",
   "name": "python",
   "nbconvert_exporter": "python",
   "pygments_lexer": "ipython3",
   "version": "3.9.7"
  }
 },
 "nbformat": 4,
 "nbformat_minor": 5
}
